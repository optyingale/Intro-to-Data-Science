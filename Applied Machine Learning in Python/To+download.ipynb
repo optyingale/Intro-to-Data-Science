{
 "cells": [
  {
   "cell_type": "code",
   "execution_count": 1,
   "metadata": {
    "collapsed": true
   },
   "outputs": [],
   "source": [
    "# make directories for downloads\n",
    "!mkdir downloads\n",
    "!mkdir downloads_zip"
   ]
  },
  {
   "cell_type": "code",
   "execution_count": 3,
   "metadata": {
    "collapsed": false
   },
   "outputs": [],
   "source": [
    "!cp ./readonly downloads/readonly -R"
   ]
  },
  {
   "cell_type": "code",
   "execution_count": 4,
   "metadata": {
    "collapsed": true
   },
   "outputs": [],
   "source": [
    "# list symbolic links pointing to itself (if there is nothing here there is no need to run the next cell)\n",
    "!cd downloads/ && find ./ -type l -exec sh -c 'readlink -f \"{}\" 1>/dev/null || rm \"{}\"' -- \"{}\" \\;"
   ]
  },
  {
   "cell_type": "code",
   "execution_count": 5,
   "metadata": {
    "collapsed": true
   },
   "outputs": [],
   "source": [
    "# remove symbolic links pointing to itself (if any)\n",
    "!cd downloads/ && find ./ -type l -exec sh -c 'readlink -f \"{}\" 1>/dev/null || rm \"{}\"' -- \"{}\" \\;"
   ]
  },
  {
   "cell_type": "code",
   "execution_count": 6,
   "metadata": {
    "collapsed": true
   },
   "outputs": [],
   "source": [
    "# copy files again and this time also download symlinks content\n",
    "!tar -hcf - downloads | tar -xf - -C downloads_zip"
   ]
  },
  {
   "cell_type": "code",
   "execution_count": 7,
   "metadata": {
    "collapsed": false
   },
   "outputs": [
    {
     "name": "stdout",
     "output_type": "stream",
     "text": [
      "downloads_zip/\n",
      "downloads_zip/downloads/\n",
      "downloads_zip/downloads/readonly/\n",
      "downloads_zip/downloads/readonly/addresses.csv\n",
      "downloads_zip/downloads/readonly/train.csv\n",
      "downloads_zip/downloads/readonly/Module 2.ipynb\n",
      "downloads_zip/downloads/readonly/Assignment 3.ipynb\n",
      "downloads_zip/downloads/readonly/Module 4.ipynb\n",
      "downloads_zip/downloads/readonly/Assignment 1.ipynb\n",
      "downloads_zip/downloads/readonly/test.csv\n",
      "downloads_zip/downloads/readonly/.ipynb_checkpoints/\n",
      "downloads_zip/downloads/readonly/.ipynb_checkpoints/Assignment 2-checkpoint.ipynb\n",
      "downloads_zip/downloads/readonly/.ipynb_checkpoints/Assignment 4-checkpoint.ipynb\n",
      "downloads_zip/downloads/readonly/.ipynb_checkpoints/Unsupervised Learning-checkpoint.ipynb\n",
      "downloads_zip/downloads/readonly/.ipynb_checkpoints/Assignment 3-checkpoint.ipynb\n",
      "downloads_zip/downloads/readonly/.ipynb_checkpoints/Assignment 1-checkpoint.ipynb\n",
      "downloads_zip/downloads/readonly/polynomialreg1.png\n",
      "downloads_zip/downloads/readonly/CommViolPredUnnormalizedData.txt\n",
      "downloads_zip/downloads/readonly/adspy_shared_utilities.py\n",
      "downloads_zip/downloads/readonly/Module 3.ipynb\n",
      "downloads_zip/downloads/readonly/fraud_data.csv\n",
      "downloads_zip/downloads/readonly/Unsupervised Learning.ipynb\n",
      "downloads_zip/downloads/readonly/fruit_data_with_colors.txt\n",
      "downloads_zip/downloads/readonly/Assignment 4.ipynb\n",
      "downloads_zip/downloads/readonly/Assignment 2.ipynb\n",
      "downloads_zip/downloads/readonly/mushrooms.csv\n",
      "downloads_zip/downloads/readonly/Classifier Visualization.ipynb\n",
      "downloads_zip/downloads/readonly/latlons.csv\n",
      "downloads_zip/downloads/readonly/Module 1.ipynb\n"
     ]
    }
   ],
   "source": [
    "# gz the files\n",
    "!tar cvfz downloads_zip.tar.gz \\'downloads_zip' \\"
   ]
  },
  {
   "cell_type": "code",
   "execution_count": 8,
   "metadata": {
    "collapsed": false
   },
   "outputs": [
    {
     "ename": "SyntaxError",
     "evalue": "invalid syntax (<ipython-input-8-d11766761a14>, line 2)",
     "output_type": "error",
     "traceback": [
      "\u001b[0;36m  File \u001b[0;32m\"<ipython-input-8-d11766761a14>\"\u001b[0;36m, line \u001b[0;32m2\u001b[0m\n\u001b[0;31m    cat downloads_zip.tar.gz.part.* > downloads_zip.tar.gz\u001b[0m\n\u001b[0m                    ^\u001b[0m\n\u001b[0;31mSyntaxError\u001b[0m\u001b[0;31m:\u001b[0m invalid syntax\n"
     ]
    }
   ],
   "source": [
    "# run this in your terminal on your local machine in the folder you downloaded the gzip parts (might be different on Windows - this works for Mac)\n",
    "cat downloads_zip.tar.gz.part.* > downloads_zip.tar.gz"
   ]
  },
  {
   "cell_type": "code",
   "execution_count": null,
   "metadata": {
    "collapsed": true
   },
   "outputs": [],
   "source": []
  }
 ],
 "metadata": {
  "kernelspec": {
   "display_name": "Python 3",
   "language": "python",
   "name": "python3"
  },
  "language_info": {
   "codemirror_mode": {
    "name": "ipython",
    "version": 3
   },
   "file_extension": ".py",
   "mimetype": "text/x-python",
   "name": "python",
   "nbconvert_exporter": "python",
   "pygments_lexer": "ipython3",
   "version": "3.6.2"
  }
 },
 "nbformat": 4,
 "nbformat_minor": 1
}
